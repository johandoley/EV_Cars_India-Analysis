{
  "nbformat": 4,
  "nbformat_minor": 0,
  "metadata": {
    "colab": {
      "provenance": []
    },
    "kernelspec": {
      "name": "python3",
      "display_name": "Python 3"
    },
    "language_info": {
      "name": "python"
    }
  },
  "cells": [
    {
      "cell_type": "code",
      "execution_count": 1,
      "metadata": {
        "id": "BXVsHk5C8fgL"
      },
      "outputs": [],
      "source": [
        "import pandas as pd\n",
        "import numpy as np"
      ]
    },
    {
      "cell_type": "code",
      "source": [
        "ev_cars_df = pd.read_csv(\"/content/drive/MyDrive/EV_cars_India_2023.csv\")"
      ],
      "metadata": {
        "id": "YDou7AT282hP"
      },
      "execution_count": 2,
      "outputs": []
    },
    {
      "cell_type": "code",
      "source": [
        "ev_cars_df"
      ],
      "metadata": {
        "id": "MRJ5t6xT94qk",
        "colab": {
          "base_uri": "https://localhost:8080/",
          "height": 990
        },
        "outputId": "fb0e133c-0f66-42cf-f006-96d72f42a692"
      },
      "execution_count": 3,
      "outputs": [
        {
          "output_type": "execute_result",
          "data": {
            "text/plain": [
              "                 Car_name            Car_price Batter_cap  \\\n",
              "0             MG Comet EV           7.98  lakh   17.3 kWh   \n",
              "1           Tata Tiago EV   8.69 - 11.99  lakh   19.2 KWh   \n",
              "2           Tata Tigor EV  12.49 - 13.75  lakh     26 kWh   \n",
              "3                MG ZS EV  23.38 - 27.40  lakh   50.3 kWh   \n",
              "4              BYD Atto 3  33.99 - 34.49  lakh  60.48 kWh   \n",
              "5   Hyundai Kona Electric  23.84 - 24.03  lakh    39.2kWh   \n",
              "6      Mahindra XUV400 EV  15.99 - 18.99  lakh   34.5 kWh   \n",
              "7       Tata Nexon EV Max  16.49 - 19.54  lakh   40.5 kWh   \n",
              "8       Mercedes-Benz EQS      1.59 - 2.4 lakh   17.3 kWh   \n",
              "9          Audi e-tron GT               1.7 cr   19.2 KWh   \n",
              "10                 BMW i4  73.90 - 77.50  lakh     26 kWh   \n",
              "11                 BYD E6          29.15  lakh   50.3 kWh   \n",
              "12         Porsche Taycan      1.53 - 2.3 lakh  60.48 kWh   \n",
              "13      Audi RS e-tron GT               1.9 cr    39.2kWh   \n",
              "14      Mahindra E Verito    9.13 - 9.46  lakh   34.5 kWh   \n",
              "15        Strom Motors R3           4.50  lakh   40.5 kWh   \n",
              "16    Tata Nexon EV Prime  14.49 - 17.19  lakh   71.7 kWh   \n",
              "17        Hyundai IONIQ 5          44.95  lakh   29.2 kWh   \n",
              "18                Kia EV6  60.95 - 65.95  lakh   77.4 kWh   \n",
              "19                 BMW iX               1.2 cr    200kmph   \n",
              "20                 BMW i7               1.9 cr        NaN   \n",
              "21         Mini Cooper SE          52.50  lakh    32.6KwH   \n",
              "22            Audi e-tron      1.02 - 1.2 lakh   77.4 kWh   \n",
              "23            Citroen eC3  11.50 - 12.76  lakh    200kmph   \n",
              "24    Volvo XC40 Recharge          56.90  lakh        NaN   \n",
              "25          Jaguar I-Pace      1.20 - 1.2 lakh    32.6KwH   \n",
              "26           Pravaig DEFY          39.50  lakh   107.8kwh   \n",
              "27              PMV EaS E           4.79  lakh    93.4kWh   \n",
              "28      Mercedes-Benz EQB          74.50  lakh        NaN   \n",
              "29      Mercedes-Benz EQC          99.50  lakh     83.9Kw   \n",
              "\n",
              "               Drive_range                Power       Charge_time  \\\n",
              "0      230  km/full charge            41.42 Bhp           7 Hours   \n",
              "1       250 km/full charge    60.34 - 73.75 Bhp    58 Min(10-80%)   \n",
              "2       315 km/full charge            73.75 Bhp              7.5h   \n",
              "3       461 km/full charge           174.33 Bhp    8.5 to 9 Hours   \n",
              "4       521 km/full charge           201.15 Bhp      9.5-10 Hours   \n",
              "5       452 km/full charge            134.1 Bhp        6.16 Hours   \n",
              "6     375 s km/full charge                50min         Automatic   \n",
              "7      453  km/full charge           141.04 Bhp          15 Hours   \n",
              "8      230  km/full charge            41.42 Bhp           7 Hours   \n",
              "9       250 km/full charge    60.34 - 73.75 Bhp    58 Min(10-80%)   \n",
              "10      315 km/full charge            73.75 Bhp              7.5h   \n",
              "11      461 km/full charge           174.33 Bhp    8.5 to 9 Hours   \n",
              "12      521 km/full charge           201.15 Bhp      9.5-10 Hours   \n",
              "13      452 km/full charge            134.1 Bhp        6.16 Hours   \n",
              "14    375 s km/full charge                50min         Automatic   \n",
              "15     453  km/full charge           141.04 Bhp          15 Hours   \n",
              "16      415 km/full charge            93.87 Bhp              1.5H   \n",
              "17      320 km/full charge            56.22 Bhp        10.5 Hours   \n",
              "18     708  km/full charge  225.86 - 320.55 Bhp    18 Min (0-80%)   \n",
              "19  372-425 km/full charge           321.84 Bhp  7.25h(AC 0-100%)   \n",
              "20  590-625 km/full charge            536.4 Bhp         Automatic   \n",
              "21      270 km/full charge           181.03 Bhp         2.5 Hours   \n",
              "22     708  km/full charge  225.86 - 320.55 Bhp    18 Min (0-80%)   \n",
              "23  372-425 km/full charge           321.84 Bhp  7.25h(AC 0-100%)   \n",
              "24  590-625 km/full charge            536.4 Bhp         Automatic   \n",
              "25      270 km/full charge           181.03 Bhp         2.5 Hours   \n",
              "26      857 km/full charge  516.29 - 750.97 Bhp         Automatic   \n",
              "27  388-500 km/full charge           5:15 Hours         Automatic   \n",
              "28  264-379 km/full charge            Automatic           200kmph   \n",
              "29  493-590 km/full charge           335.25 Bhp         Automatic   \n",
              "\n",
              "       transmission Boot_space Top_speed  \n",
              "0         Automatic        NaN       NaN  \n",
              "1    240 L (Liters)  Automatic       NaN  \n",
              "2    316 L (Liters)  Automatic       NaN  \n",
              "3         Automatic        NaN       NaN  \n",
              "4   440L L (Liters)  Automatic       NaN  \n",
              "5         Automatic        NaN       NaN  \n",
              "6               NaN        NaN       NaN  \n",
              "7    350 L (Liters)  Automatic       NaN  \n",
              "8         Automatic        NaN       NaN  \n",
              "9    240 L (Liters)  Automatic       NaN  \n",
              "10   316 L (Liters)  Automatic       NaN  \n",
              "11        Automatic        NaN       NaN  \n",
              "12  440L L (Liters)  Automatic       NaN  \n",
              "13        Automatic        NaN       NaN  \n",
              "14              NaN        NaN       NaN  \n",
              "15   350 L (Liters)  Automatic       NaN  \n",
              "16   580 L (Liters)  Automatic       NaN  \n",
              "17   315 L (Liters)  Automatic       NaN  \n",
              "18        Automatic        NaN       NaN  \n",
              "19        Automatic      71kWh   200kmph  \n",
              "20         101.7kWh        NaN       NaN  \n",
              "21        Automatic        NaN       NaN  \n",
              "22        Automatic        NaN       NaN  \n",
              "23        Automatic      71kWh   200kmph  \n",
              "24         101.7kWh        NaN       NaN  \n",
              "25        Automatic        NaN       NaN  \n",
              "26          210km/h        NaN   210km/h  \n",
              "27          245km/h        NaN   245km/h  \n",
              "28            71kwh        NaN   200kmph  \n",
              "29          190kmph        NaN   190kmph  "
            ],
            "text/html": [
              "\n",
              "  <div id=\"df-dfd84f7f-a807-4dfa-8d8b-2ece24705243\" class=\"colab-df-container\">\n",
              "    <div>\n",
              "<style scoped>\n",
              "    .dataframe tbody tr th:only-of-type {\n",
              "        vertical-align: middle;\n",
              "    }\n",
              "\n",
              "    .dataframe tbody tr th {\n",
              "        vertical-align: top;\n",
              "    }\n",
              "\n",
              "    .dataframe thead th {\n",
              "        text-align: right;\n",
              "    }\n",
              "</style>\n",
              "<table border=\"1\" class=\"dataframe\">\n",
              "  <thead>\n",
              "    <tr style=\"text-align: right;\">\n",
              "      <th></th>\n",
              "      <th>Car_name</th>\n",
              "      <th>Car_price</th>\n",
              "      <th>Batter_cap</th>\n",
              "      <th>Drive_range</th>\n",
              "      <th>Power</th>\n",
              "      <th>Charge_time</th>\n",
              "      <th>transmission</th>\n",
              "      <th>Boot_space</th>\n",
              "      <th>Top_speed</th>\n",
              "    </tr>\n",
              "  </thead>\n",
              "  <tbody>\n",
              "    <tr>\n",
              "      <th>0</th>\n",
              "      <td>MG Comet EV</td>\n",
              "      <td>7.98  lakh</td>\n",
              "      <td>17.3 kWh</td>\n",
              "      <td>230  km/full charge</td>\n",
              "      <td>41.42 Bhp</td>\n",
              "      <td>7 Hours</td>\n",
              "      <td>Automatic</td>\n",
              "      <td>NaN</td>\n",
              "      <td>NaN</td>\n",
              "    </tr>\n",
              "    <tr>\n",
              "      <th>1</th>\n",
              "      <td>Tata Tiago EV</td>\n",
              "      <td>8.69 - 11.99  lakh</td>\n",
              "      <td>19.2 KWh</td>\n",
              "      <td>250 km/full charge</td>\n",
              "      <td>60.34 - 73.75 Bhp</td>\n",
              "      <td>58 Min(10-80%)</td>\n",
              "      <td>240 L (Liters)</td>\n",
              "      <td>Automatic</td>\n",
              "      <td>NaN</td>\n",
              "    </tr>\n",
              "    <tr>\n",
              "      <th>2</th>\n",
              "      <td>Tata Tigor EV</td>\n",
              "      <td>12.49 - 13.75  lakh</td>\n",
              "      <td>26 kWh</td>\n",
              "      <td>315 km/full charge</td>\n",
              "      <td>73.75 Bhp</td>\n",
              "      <td>7.5h</td>\n",
              "      <td>316 L (Liters)</td>\n",
              "      <td>Automatic</td>\n",
              "      <td>NaN</td>\n",
              "    </tr>\n",
              "    <tr>\n",
              "      <th>3</th>\n",
              "      <td>MG ZS EV</td>\n",
              "      <td>23.38 - 27.40  lakh</td>\n",
              "      <td>50.3 kWh</td>\n",
              "      <td>461 km/full charge</td>\n",
              "      <td>174.33 Bhp</td>\n",
              "      <td>8.5 to 9 Hours</td>\n",
              "      <td>Automatic</td>\n",
              "      <td>NaN</td>\n",
              "      <td>NaN</td>\n",
              "    </tr>\n",
              "    <tr>\n",
              "      <th>4</th>\n",
              "      <td>BYD Atto 3</td>\n",
              "      <td>33.99 - 34.49  lakh</td>\n",
              "      <td>60.48 kWh</td>\n",
              "      <td>521 km/full charge</td>\n",
              "      <td>201.15 Bhp</td>\n",
              "      <td>9.5-10 Hours</td>\n",
              "      <td>440L L (Liters)</td>\n",
              "      <td>Automatic</td>\n",
              "      <td>NaN</td>\n",
              "    </tr>\n",
              "    <tr>\n",
              "      <th>5</th>\n",
              "      <td>Hyundai Kona Electric</td>\n",
              "      <td>23.84 - 24.03  lakh</td>\n",
              "      <td>39.2kWh</td>\n",
              "      <td>452 km/full charge</td>\n",
              "      <td>134.1 Bhp</td>\n",
              "      <td>6.16 Hours</td>\n",
              "      <td>Automatic</td>\n",
              "      <td>NaN</td>\n",
              "      <td>NaN</td>\n",
              "    </tr>\n",
              "    <tr>\n",
              "      <th>6</th>\n",
              "      <td>Mahindra XUV400 EV</td>\n",
              "      <td>15.99 - 18.99  lakh</td>\n",
              "      <td>34.5 kWh</td>\n",
              "      <td>375 s km/full charge</td>\n",
              "      <td>50min</td>\n",
              "      <td>Automatic</td>\n",
              "      <td>NaN</td>\n",
              "      <td>NaN</td>\n",
              "      <td>NaN</td>\n",
              "    </tr>\n",
              "    <tr>\n",
              "      <th>7</th>\n",
              "      <td>Tata Nexon EV Max</td>\n",
              "      <td>16.49 - 19.54  lakh</td>\n",
              "      <td>40.5 kWh</td>\n",
              "      <td>453  km/full charge</td>\n",
              "      <td>141.04 Bhp</td>\n",
              "      <td>15 Hours</td>\n",
              "      <td>350 L (Liters)</td>\n",
              "      <td>Automatic</td>\n",
              "      <td>NaN</td>\n",
              "    </tr>\n",
              "    <tr>\n",
              "      <th>8</th>\n",
              "      <td>Mercedes-Benz EQS</td>\n",
              "      <td>1.59 - 2.4 lakh</td>\n",
              "      <td>17.3 kWh</td>\n",
              "      <td>230  km/full charge</td>\n",
              "      <td>41.42 Bhp</td>\n",
              "      <td>7 Hours</td>\n",
              "      <td>Automatic</td>\n",
              "      <td>NaN</td>\n",
              "      <td>NaN</td>\n",
              "    </tr>\n",
              "    <tr>\n",
              "      <th>9</th>\n",
              "      <td>Audi e-tron GT</td>\n",
              "      <td>1.7 cr</td>\n",
              "      <td>19.2 KWh</td>\n",
              "      <td>250 km/full charge</td>\n",
              "      <td>60.34 - 73.75 Bhp</td>\n",
              "      <td>58 Min(10-80%)</td>\n",
              "      <td>240 L (Liters)</td>\n",
              "      <td>Automatic</td>\n",
              "      <td>NaN</td>\n",
              "    </tr>\n",
              "    <tr>\n",
              "      <th>10</th>\n",
              "      <td>BMW i4</td>\n",
              "      <td>73.90 - 77.50  lakh</td>\n",
              "      <td>26 kWh</td>\n",
              "      <td>315 km/full charge</td>\n",
              "      <td>73.75 Bhp</td>\n",
              "      <td>7.5h</td>\n",
              "      <td>316 L (Liters)</td>\n",
              "      <td>Automatic</td>\n",
              "      <td>NaN</td>\n",
              "    </tr>\n",
              "    <tr>\n",
              "      <th>11</th>\n",
              "      <td>BYD E6</td>\n",
              "      <td>29.15  lakh</td>\n",
              "      <td>50.3 kWh</td>\n",
              "      <td>461 km/full charge</td>\n",
              "      <td>174.33 Bhp</td>\n",
              "      <td>8.5 to 9 Hours</td>\n",
              "      <td>Automatic</td>\n",
              "      <td>NaN</td>\n",
              "      <td>NaN</td>\n",
              "    </tr>\n",
              "    <tr>\n",
              "      <th>12</th>\n",
              "      <td>Porsche Taycan</td>\n",
              "      <td>1.53 - 2.3 lakh</td>\n",
              "      <td>60.48 kWh</td>\n",
              "      <td>521 km/full charge</td>\n",
              "      <td>201.15 Bhp</td>\n",
              "      <td>9.5-10 Hours</td>\n",
              "      <td>440L L (Liters)</td>\n",
              "      <td>Automatic</td>\n",
              "      <td>NaN</td>\n",
              "    </tr>\n",
              "    <tr>\n",
              "      <th>13</th>\n",
              "      <td>Audi RS e-tron GT</td>\n",
              "      <td>1.9 cr</td>\n",
              "      <td>39.2kWh</td>\n",
              "      <td>452 km/full charge</td>\n",
              "      <td>134.1 Bhp</td>\n",
              "      <td>6.16 Hours</td>\n",
              "      <td>Automatic</td>\n",
              "      <td>NaN</td>\n",
              "      <td>NaN</td>\n",
              "    </tr>\n",
              "    <tr>\n",
              "      <th>14</th>\n",
              "      <td>Mahindra E Verito</td>\n",
              "      <td>9.13 - 9.46  lakh</td>\n",
              "      <td>34.5 kWh</td>\n",
              "      <td>375 s km/full charge</td>\n",
              "      <td>50min</td>\n",
              "      <td>Automatic</td>\n",
              "      <td>NaN</td>\n",
              "      <td>NaN</td>\n",
              "      <td>NaN</td>\n",
              "    </tr>\n",
              "    <tr>\n",
              "      <th>15</th>\n",
              "      <td>Strom Motors R3</td>\n",
              "      <td>4.50  lakh</td>\n",
              "      <td>40.5 kWh</td>\n",
              "      <td>453  km/full charge</td>\n",
              "      <td>141.04 Bhp</td>\n",
              "      <td>15 Hours</td>\n",
              "      <td>350 L (Liters)</td>\n",
              "      <td>Automatic</td>\n",
              "      <td>NaN</td>\n",
              "    </tr>\n",
              "    <tr>\n",
              "      <th>16</th>\n",
              "      <td>Tata Nexon EV Prime</td>\n",
              "      <td>14.49 - 17.19  lakh</td>\n",
              "      <td>71.7 kWh</td>\n",
              "      <td>415 km/full charge</td>\n",
              "      <td>93.87 Bhp</td>\n",
              "      <td>1.5H</td>\n",
              "      <td>580 L (Liters)</td>\n",
              "      <td>Automatic</td>\n",
              "      <td>NaN</td>\n",
              "    </tr>\n",
              "    <tr>\n",
              "      <th>17</th>\n",
              "      <td>Hyundai IONIQ 5</td>\n",
              "      <td>44.95  lakh</td>\n",
              "      <td>29.2 kWh</td>\n",
              "      <td>320 km/full charge</td>\n",
              "      <td>56.22 Bhp</td>\n",
              "      <td>10.5 Hours</td>\n",
              "      <td>315 L (Liters)</td>\n",
              "      <td>Automatic</td>\n",
              "      <td>NaN</td>\n",
              "    </tr>\n",
              "    <tr>\n",
              "      <th>18</th>\n",
              "      <td>Kia EV6</td>\n",
              "      <td>60.95 - 65.95  lakh</td>\n",
              "      <td>77.4 kWh</td>\n",
              "      <td>708  km/full charge</td>\n",
              "      <td>225.86 - 320.55 Bhp</td>\n",
              "      <td>18 Min (0-80%)</td>\n",
              "      <td>Automatic</td>\n",
              "      <td>NaN</td>\n",
              "      <td>NaN</td>\n",
              "    </tr>\n",
              "    <tr>\n",
              "      <th>19</th>\n",
              "      <td>BMW iX</td>\n",
              "      <td>1.2 cr</td>\n",
              "      <td>200kmph</td>\n",
              "      <td>372-425 km/full charge</td>\n",
              "      <td>321.84 Bhp</td>\n",
              "      <td>7.25h(AC 0-100%)</td>\n",
              "      <td>Automatic</td>\n",
              "      <td>71kWh</td>\n",
              "      <td>200kmph</td>\n",
              "    </tr>\n",
              "    <tr>\n",
              "      <th>20</th>\n",
              "      <td>BMW i7</td>\n",
              "      <td>1.9 cr</td>\n",
              "      <td>NaN</td>\n",
              "      <td>590-625 km/full charge</td>\n",
              "      <td>536.4 Bhp</td>\n",
              "      <td>Automatic</td>\n",
              "      <td>101.7kWh</td>\n",
              "      <td>NaN</td>\n",
              "      <td>NaN</td>\n",
              "    </tr>\n",
              "    <tr>\n",
              "      <th>21</th>\n",
              "      <td>Mini Cooper SE</td>\n",
              "      <td>52.50  lakh</td>\n",
              "      <td>32.6KwH</td>\n",
              "      <td>270 km/full charge</td>\n",
              "      <td>181.03 Bhp</td>\n",
              "      <td>2.5 Hours</td>\n",
              "      <td>Automatic</td>\n",
              "      <td>NaN</td>\n",
              "      <td>NaN</td>\n",
              "    </tr>\n",
              "    <tr>\n",
              "      <th>22</th>\n",
              "      <td>Audi e-tron</td>\n",
              "      <td>1.02 - 1.2 lakh</td>\n",
              "      <td>77.4 kWh</td>\n",
              "      <td>708  km/full charge</td>\n",
              "      <td>225.86 - 320.55 Bhp</td>\n",
              "      <td>18 Min (0-80%)</td>\n",
              "      <td>Automatic</td>\n",
              "      <td>NaN</td>\n",
              "      <td>NaN</td>\n",
              "    </tr>\n",
              "    <tr>\n",
              "      <th>23</th>\n",
              "      <td>Citroen eC3</td>\n",
              "      <td>11.50 - 12.76  lakh</td>\n",
              "      <td>200kmph</td>\n",
              "      <td>372-425 km/full charge</td>\n",
              "      <td>321.84 Bhp</td>\n",
              "      <td>7.25h(AC 0-100%)</td>\n",
              "      <td>Automatic</td>\n",
              "      <td>71kWh</td>\n",
              "      <td>200kmph</td>\n",
              "    </tr>\n",
              "    <tr>\n",
              "      <th>24</th>\n",
              "      <td>Volvo XC40 Recharge</td>\n",
              "      <td>56.90  lakh</td>\n",
              "      <td>NaN</td>\n",
              "      <td>590-625 km/full charge</td>\n",
              "      <td>536.4 Bhp</td>\n",
              "      <td>Automatic</td>\n",
              "      <td>101.7kWh</td>\n",
              "      <td>NaN</td>\n",
              "      <td>NaN</td>\n",
              "    </tr>\n",
              "    <tr>\n",
              "      <th>25</th>\n",
              "      <td>Jaguar I-Pace</td>\n",
              "      <td>1.20 - 1.2 lakh</td>\n",
              "      <td>32.6KwH</td>\n",
              "      <td>270 km/full charge</td>\n",
              "      <td>181.03 Bhp</td>\n",
              "      <td>2.5 Hours</td>\n",
              "      <td>Automatic</td>\n",
              "      <td>NaN</td>\n",
              "      <td>NaN</td>\n",
              "    </tr>\n",
              "    <tr>\n",
              "      <th>26</th>\n",
              "      <td>Pravaig DEFY</td>\n",
              "      <td>39.50  lakh</td>\n",
              "      <td>107.8kwh</td>\n",
              "      <td>857 km/full charge</td>\n",
              "      <td>516.29 - 750.97 Bhp</td>\n",
              "      <td>Automatic</td>\n",
              "      <td>210km/h</td>\n",
              "      <td>NaN</td>\n",
              "      <td>210km/h</td>\n",
              "    </tr>\n",
              "    <tr>\n",
              "      <th>27</th>\n",
              "      <td>PMV EaS E</td>\n",
              "      <td>4.79  lakh</td>\n",
              "      <td>93.4kWh</td>\n",
              "      <td>388-500 km/full charge</td>\n",
              "      <td>5:15 Hours</td>\n",
              "      <td>Automatic</td>\n",
              "      <td>245km/h</td>\n",
              "      <td>NaN</td>\n",
              "      <td>245km/h</td>\n",
              "    </tr>\n",
              "    <tr>\n",
              "      <th>28</th>\n",
              "      <td>Mercedes-Benz EQB</td>\n",
              "      <td>74.50  lakh</td>\n",
              "      <td>NaN</td>\n",
              "      <td>264-379 km/full charge</td>\n",
              "      <td>Automatic</td>\n",
              "      <td>200kmph</td>\n",
              "      <td>71kwh</td>\n",
              "      <td>NaN</td>\n",
              "      <td>200kmph</td>\n",
              "    </tr>\n",
              "    <tr>\n",
              "      <th>29</th>\n",
              "      <td>Mercedes-Benz EQC</td>\n",
              "      <td>99.50  lakh</td>\n",
              "      <td>83.9Kw</td>\n",
              "      <td>493-590 km/full charge</td>\n",
              "      <td>335.25 Bhp</td>\n",
              "      <td>Automatic</td>\n",
              "      <td>190kmph</td>\n",
              "      <td>NaN</td>\n",
              "      <td>190kmph</td>\n",
              "    </tr>\n",
              "  </tbody>\n",
              "</table>\n",
              "</div>\n",
              "    <div class=\"colab-df-buttons\">\n",
              "\n",
              "  <div class=\"colab-df-container\">\n",
              "    <button class=\"colab-df-convert\" onclick=\"convertToInteractive('df-dfd84f7f-a807-4dfa-8d8b-2ece24705243')\"\n",
              "            title=\"Convert this dataframe to an interactive table.\"\n",
              "            style=\"display:none;\">\n",
              "\n",
              "  <svg xmlns=\"http://www.w3.org/2000/svg\" height=\"24px\" viewBox=\"0 -960 960 960\">\n",
              "    <path d=\"M120-120v-720h720v720H120Zm60-500h600v-160H180v160Zm220 220h160v-160H400v160Zm0 220h160v-160H400v160ZM180-400h160v-160H180v160Zm440 0h160v-160H620v160ZM180-180h160v-160H180v160Zm440 0h160v-160H620v160Z\"/>\n",
              "  </svg>\n",
              "    </button>\n",
              "\n",
              "  <style>\n",
              "    .colab-df-container {\n",
              "      display:flex;\n",
              "      gap: 12px;\n",
              "    }\n",
              "\n",
              "    .colab-df-convert {\n",
              "      background-color: #E8F0FE;\n",
              "      border: none;\n",
              "      border-radius: 50%;\n",
              "      cursor: pointer;\n",
              "      display: none;\n",
              "      fill: #1967D2;\n",
              "      height: 32px;\n",
              "      padding: 0 0 0 0;\n",
              "      width: 32px;\n",
              "    }\n",
              "\n",
              "    .colab-df-convert:hover {\n",
              "      background-color: #E2EBFA;\n",
              "      box-shadow: 0px 1px 2px rgba(60, 64, 67, 0.3), 0px 1px 3px 1px rgba(60, 64, 67, 0.15);\n",
              "      fill: #174EA6;\n",
              "    }\n",
              "\n",
              "    .colab-df-buttons div {\n",
              "      margin-bottom: 4px;\n",
              "    }\n",
              "\n",
              "    [theme=dark] .colab-df-convert {\n",
              "      background-color: #3B4455;\n",
              "      fill: #D2E3FC;\n",
              "    }\n",
              "\n",
              "    [theme=dark] .colab-df-convert:hover {\n",
              "      background-color: #434B5C;\n",
              "      box-shadow: 0px 1px 3px 1px rgba(0, 0, 0, 0.15);\n",
              "      filter: drop-shadow(0px 1px 2px rgba(0, 0, 0, 0.3));\n",
              "      fill: #FFFFFF;\n",
              "    }\n",
              "  </style>\n",
              "\n",
              "    <script>\n",
              "      const buttonEl =\n",
              "        document.querySelector('#df-dfd84f7f-a807-4dfa-8d8b-2ece24705243 button.colab-df-convert');\n",
              "      buttonEl.style.display =\n",
              "        google.colab.kernel.accessAllowed ? 'block' : 'none';\n",
              "\n",
              "      async function convertToInteractive(key) {\n",
              "        const element = document.querySelector('#df-dfd84f7f-a807-4dfa-8d8b-2ece24705243');\n",
              "        const dataTable =\n",
              "          await google.colab.kernel.invokeFunction('convertToInteractive',\n",
              "                                                    [key], {});\n",
              "        if (!dataTable) return;\n",
              "\n",
              "        const docLinkHtml = 'Like what you see? Visit the ' +\n",
              "          '<a target=\"_blank\" href=https://colab.research.google.com/notebooks/data_table.ipynb>data table notebook</a>'\n",
              "          + ' to learn more about interactive tables.';\n",
              "        element.innerHTML = '';\n",
              "        dataTable['output_type'] = 'display_data';\n",
              "        await google.colab.output.renderOutput(dataTable, element);\n",
              "        const docLink = document.createElement('div');\n",
              "        docLink.innerHTML = docLinkHtml;\n",
              "        element.appendChild(docLink);\n",
              "      }\n",
              "    </script>\n",
              "  </div>\n",
              "\n",
              "\n",
              "<div id=\"df-3b715946-3a62-4a9d-864d-63b1d78e4b5b\">\n",
              "  <button class=\"colab-df-quickchart\" onclick=\"quickchart('df-3b715946-3a62-4a9d-864d-63b1d78e4b5b')\"\n",
              "            title=\"Suggest charts\"\n",
              "            style=\"display:none;\">\n",
              "\n",
              "<svg xmlns=\"http://www.w3.org/2000/svg\" height=\"24px\"viewBox=\"0 0 24 24\"\n",
              "     width=\"24px\">\n",
              "    <g>\n",
              "        <path d=\"M19 3H5c-1.1 0-2 .9-2 2v14c0 1.1.9 2 2 2h14c1.1 0 2-.9 2-2V5c0-1.1-.9-2-2-2zM9 17H7v-7h2v7zm4 0h-2V7h2v10zm4 0h-2v-4h2v4z\"/>\n",
              "    </g>\n",
              "</svg>\n",
              "  </button>\n",
              "\n",
              "<style>\n",
              "  .colab-df-quickchart {\n",
              "      --bg-color: #E8F0FE;\n",
              "      --fill-color: #1967D2;\n",
              "      --hover-bg-color: #E2EBFA;\n",
              "      --hover-fill-color: #174EA6;\n",
              "      --disabled-fill-color: #AAA;\n",
              "      --disabled-bg-color: #DDD;\n",
              "  }\n",
              "\n",
              "  [theme=dark] .colab-df-quickchart {\n",
              "      --bg-color: #3B4455;\n",
              "      --fill-color: #D2E3FC;\n",
              "      --hover-bg-color: #434B5C;\n",
              "      --hover-fill-color: #FFFFFF;\n",
              "      --disabled-bg-color: #3B4455;\n",
              "      --disabled-fill-color: #666;\n",
              "  }\n",
              "\n",
              "  .colab-df-quickchart {\n",
              "    background-color: var(--bg-color);\n",
              "    border: none;\n",
              "    border-radius: 50%;\n",
              "    cursor: pointer;\n",
              "    display: none;\n",
              "    fill: var(--fill-color);\n",
              "    height: 32px;\n",
              "    padding: 0;\n",
              "    width: 32px;\n",
              "  }\n",
              "\n",
              "  .colab-df-quickchart:hover {\n",
              "    background-color: var(--hover-bg-color);\n",
              "    box-shadow: 0 1px 2px rgba(60, 64, 67, 0.3), 0 1px 3px 1px rgba(60, 64, 67, 0.15);\n",
              "    fill: var(--button-hover-fill-color);\n",
              "  }\n",
              "\n",
              "  .colab-df-quickchart-complete:disabled,\n",
              "  .colab-df-quickchart-complete:disabled:hover {\n",
              "    background-color: var(--disabled-bg-color);\n",
              "    fill: var(--disabled-fill-color);\n",
              "    box-shadow: none;\n",
              "  }\n",
              "\n",
              "  .colab-df-spinner {\n",
              "    border: 2px solid var(--fill-color);\n",
              "    border-color: transparent;\n",
              "    border-bottom-color: var(--fill-color);\n",
              "    animation:\n",
              "      spin 1s steps(1) infinite;\n",
              "  }\n",
              "\n",
              "  @keyframes spin {\n",
              "    0% {\n",
              "      border-color: transparent;\n",
              "      border-bottom-color: var(--fill-color);\n",
              "      border-left-color: var(--fill-color);\n",
              "    }\n",
              "    20% {\n",
              "      border-color: transparent;\n",
              "      border-left-color: var(--fill-color);\n",
              "      border-top-color: var(--fill-color);\n",
              "    }\n",
              "    30% {\n",
              "      border-color: transparent;\n",
              "      border-left-color: var(--fill-color);\n",
              "      border-top-color: var(--fill-color);\n",
              "      border-right-color: var(--fill-color);\n",
              "    }\n",
              "    40% {\n",
              "      border-color: transparent;\n",
              "      border-right-color: var(--fill-color);\n",
              "      border-top-color: var(--fill-color);\n",
              "    }\n",
              "    60% {\n",
              "      border-color: transparent;\n",
              "      border-right-color: var(--fill-color);\n",
              "    }\n",
              "    80% {\n",
              "      border-color: transparent;\n",
              "      border-right-color: var(--fill-color);\n",
              "      border-bottom-color: var(--fill-color);\n",
              "    }\n",
              "    90% {\n",
              "      border-color: transparent;\n",
              "      border-bottom-color: var(--fill-color);\n",
              "    }\n",
              "  }\n",
              "</style>\n",
              "\n",
              "  <script>\n",
              "    async function quickchart(key) {\n",
              "      const quickchartButtonEl =\n",
              "        document.querySelector('#' + key + ' button');\n",
              "      quickchartButtonEl.disabled = true;  // To prevent multiple clicks.\n",
              "      quickchartButtonEl.classList.add('colab-df-spinner');\n",
              "      try {\n",
              "        const charts = await google.colab.kernel.invokeFunction(\n",
              "            'suggestCharts', [key], {});\n",
              "      } catch (error) {\n",
              "        console.error('Error during call to suggestCharts:', error);\n",
              "      }\n",
              "      quickchartButtonEl.classList.remove('colab-df-spinner');\n",
              "      quickchartButtonEl.classList.add('colab-df-quickchart-complete');\n",
              "    }\n",
              "    (() => {\n",
              "      let quickchartButtonEl =\n",
              "        document.querySelector('#df-3b715946-3a62-4a9d-864d-63b1d78e4b5b button');\n",
              "      quickchartButtonEl.style.display =\n",
              "        google.colab.kernel.accessAllowed ? 'block' : 'none';\n",
              "    })();\n",
              "  </script>\n",
              "</div>\n",
              "\n",
              "  <div id=\"id_931e82fe-ccca-4439-832b-771db92ab0c0\">\n",
              "    <style>\n",
              "      .colab-df-generate {\n",
              "        background-color: #E8F0FE;\n",
              "        border: none;\n",
              "        border-radius: 50%;\n",
              "        cursor: pointer;\n",
              "        display: none;\n",
              "        fill: #1967D2;\n",
              "        height: 32px;\n",
              "        padding: 0 0 0 0;\n",
              "        width: 32px;\n",
              "      }\n",
              "\n",
              "      .colab-df-generate:hover {\n",
              "        background-color: #E2EBFA;\n",
              "        box-shadow: 0px 1px 2px rgba(60, 64, 67, 0.3), 0px 1px 3px 1px rgba(60, 64, 67, 0.15);\n",
              "        fill: #174EA6;\n",
              "      }\n",
              "\n",
              "      [theme=dark] .colab-df-generate {\n",
              "        background-color: #3B4455;\n",
              "        fill: #D2E3FC;\n",
              "      }\n",
              "\n",
              "      [theme=dark] .colab-df-generate:hover {\n",
              "        background-color: #434B5C;\n",
              "        box-shadow: 0px 1px 3px 1px rgba(0, 0, 0, 0.15);\n",
              "        filter: drop-shadow(0px 1px 2px rgba(0, 0, 0, 0.3));\n",
              "        fill: #FFFFFF;\n",
              "      }\n",
              "    </style>\n",
              "    <button class=\"colab-df-generate\" onclick=\"generateWithVariable('ev_cars_df')\"\n",
              "            title=\"Generate code using this dataframe.\"\n",
              "            style=\"display:none;\">\n",
              "\n",
              "  <svg xmlns=\"http://www.w3.org/2000/svg\" height=\"24px\"viewBox=\"0 0 24 24\"\n",
              "       width=\"24px\">\n",
              "    <path d=\"M7,19H8.4L18.45,9,17,7.55,7,17.6ZM5,21V16.75L18.45,3.32a2,2,0,0,1,2.83,0l1.4,1.43a1.91,1.91,0,0,1,.58,1.4,1.91,1.91,0,0,1-.58,1.4L9.25,21ZM18.45,9,17,7.55Zm-12,3A5.31,5.31,0,0,0,4.9,8.1,5.31,5.31,0,0,0,1,6.5,5.31,5.31,0,0,0,4.9,4.9,5.31,5.31,0,0,0,6.5,1,5.31,5.31,0,0,0,8.1,4.9,5.31,5.31,0,0,0,12,6.5,5.46,5.46,0,0,0,6.5,12Z\"/>\n",
              "  </svg>\n",
              "    </button>\n",
              "    <script>\n",
              "      (() => {\n",
              "      const buttonEl =\n",
              "        document.querySelector('#id_931e82fe-ccca-4439-832b-771db92ab0c0 button.colab-df-generate');\n",
              "      buttonEl.style.display =\n",
              "        google.colab.kernel.accessAllowed ? 'block' : 'none';\n",
              "\n",
              "      buttonEl.onclick = () => {\n",
              "        google.colab.notebook.generateWithVariable('ev_cars_df');\n",
              "      }\n",
              "      })();\n",
              "    </script>\n",
              "  </div>\n",
              "\n",
              "    </div>\n",
              "  </div>\n"
            ],
            "application/vnd.google.colaboratory.intrinsic+json": {
              "type": "dataframe",
              "variable_name": "ev_cars_df",
              "summary": "{\n  \"name\": \"ev_cars_df\",\n  \"rows\": 30,\n  \"fields\": [\n    {\n      \"column\": \"Car_name\",\n      \"properties\": {\n        \"dtype\": \"string\",\n        \"num_unique_values\": 30,\n        \"samples\": [\n          \"PMV EaS E\",\n          \"Strom Motors R3\",\n          \"Citroen eC3\"\n        ],\n        \"semantic_type\": \"\",\n        \"description\": \"\"\n      }\n    },\n    {\n      \"column\": \"Car_price\",\n      \"properties\": {\n        \"dtype\": \"string\",\n        \"num_unique_values\": 29,\n        \"samples\": [\n          \"74.50  lakh\",\n          \"14.49 - 17.19  lakh\",\n          \"1.53 - 2.3 lakh\"\n        ],\n        \"semantic_type\": \"\",\n        \"description\": \"\"\n      }\n    },\n    {\n      \"column\": \"Batter_cap\",\n      \"properties\": {\n        \"dtype\": \"string\",\n        \"num_unique_values\": 16,\n        \"samples\": [\n          \"17.3 kWh\",\n          \"19.2 KWh\",\n          \"39.2kWh\"\n        ],\n        \"semantic_type\": \"\",\n        \"description\": \"\"\n      }\n    },\n    {\n      \"column\": \"Drive_range\",\n      \"properties\": {\n        \"dtype\": \"string\",\n        \"num_unique_values\": 18,\n        \"samples\": [\n          \"230  km/full charge\",\n          \"250 km/full charge\",\n          \"415 km/full charge\"\n        ],\n        \"semantic_type\": \"\",\n        \"description\": \"\"\n      }\n    },\n    {\n      \"column\": \"Power\",\n      \"properties\": {\n        \"dtype\": \"string\",\n        \"num_unique_values\": 18,\n        \"samples\": [\n          \"41.42 Bhp\",\n          \"60.34 - 73.75 Bhp\",\n          \"93.87 Bhp\"\n        ],\n        \"semantic_type\": \"\",\n        \"description\": \"\"\n      }\n    },\n    {\n      \"column\": \"Charge_time\",\n      \"properties\": {\n        \"dtype\": \"category\",\n        \"num_unique_values\": 14,\n        \"samples\": [\n          \"10.5 Hours\",\n          \"7.25h(AC 0-100%)\",\n          \"7 Hours\"\n        ],\n        \"semantic_type\": \"\",\n        \"description\": \"\"\n      }\n    },\n    {\n      \"column\": \"transmission\",\n      \"properties\": {\n        \"dtype\": \"category\",\n        \"num_unique_values\": 12,\n        \"samples\": [\n          \"71kwh\",\n          \"245km/h\",\n          \"Automatic\"\n        ],\n        \"semantic_type\": \"\",\n        \"description\": \"\"\n      }\n    },\n    {\n      \"column\": \"Boot_space\",\n      \"properties\": {\n        \"dtype\": \"category\",\n        \"num_unique_values\": 2,\n        \"samples\": [\n          \"71kWh\",\n          \"Automatic\"\n        ],\n        \"semantic_type\": \"\",\n        \"description\": \"\"\n      }\n    },\n    {\n      \"column\": \"Top_speed\",\n      \"properties\": {\n        \"dtype\": \"category\",\n        \"num_unique_values\": 4,\n        \"samples\": [\n          \"210km/h\",\n          \"190kmph\"\n        ],\n        \"semantic_type\": \"\",\n        \"description\": \"\"\n      }\n    }\n  ]\n}"
            }
          },
          "metadata": {},
          "execution_count": 3
        }
      ]
    },
    {
      "source": [
        "# @title Boot_space\n",
        "\n",
        "from matplotlib import pyplot as plt\n",
        "import seaborn as sns\n",
        "ev_cars_df.groupby('Boot_space').size().plot(kind='barh', color=sns.palettes.mpl_palette('Dark2'))\n",
        "plt.gca().spines[['top', 'right',]].set_visible(False)"
      ],
      "cell_type": "code",
      "execution_count": 4,
      "outputs": [
        {
          "output_type": "display_data",
          "data": {
            "text/plain": [
              "<Figure size 640x480 with 1 Axes>"
            ],
            "image/png": "[encoded data removed]"
          },
          "metadata": {}
        }
      ],
      "metadata": {
        "cellView": "form",
        "colab": {
          "base_uri": "https://localhost:8080/",
          "height": 430
        },
        "id": "V38egiwWuj03",
        "outputId": "a826158e-ad2a-464a-e2e5-0ce459375727"
      }
    },
    {
      "source": [
        "# @title Car_price\n",
        "\n",
        "#from matplotlib import pyplot as plt\n",
        "#ev_cars_df['Car_price'].plot(kind='hist', bins=20, title='Car_price')\n",
        "#plt.gca().spines[['top', 'right',]].set_visible(False)"
      ],
      "cell_type": "code",
      "execution_count": 5,
      "outputs": [],
      "metadata": {
        "id": "BZRwM-3SuY9n"
      }
    },
    {
      "cell_type": "code",
      "source": [
        "# Function to convert 'cr' to 'lakh' and handle ranges\n",
        "def convert_price(price):\n",
        "    if isinstance(price, str):\n",
        "        if 'cr' in price:\n",
        "            return float(price.replace(' cr', '')) * 100\n",
        "        if '-' in price:\n",
        "            prices = price.replace(' lakh', '').split(' - ')\n",
        "            return (float(prices[0]) + float(prices[1])) / 2\n",
        "        return float(price.replace(' lakh', ''))\n",
        "    return price"
      ],
      "metadata": {
        "id": "uY8_jtoCzwRo"
      },
      "execution_count": 6,
      "outputs": []
    },
    {
      "cell_type": "code",
      "source": [
        "# Apply conversion function to 'Car_price' column\n",
        "ev_cars_df['Car_price'] = ev_cars_df['Car_price'].apply(convert_price)"
      ],
      "metadata": {
        "id": "ofsQUAt78Vqz"
      },
      "execution_count": 7,
      "outputs": []
    },
    {
      "cell_type": "code",
      "source": [
        "# Convert 'Batter_cap' to string and handle case variations and without spaces\n",
        "ev_cars_df['Batter_cap'] = ev_cars_df['Batter_cap'].astype(str).str.lower().str.replace('kwh', '').str.replace(' ', '')\n",
        "\n"
      ],
      "metadata": {
        "id": "fomvi-Xy5jdp"
      },
      "execution_count": 8,
      "outputs": []
    },
    {
      "cell_type": "code",
      "source": [
        "# Identify non-numeric values in 'Batter_cap' column\n",
        "non_numeric_batter_cap = ev_cars_df[~ev_cars_df['Batter_cap'].str.isnumeric()]\n",
        "print(non_numeric_batter_cap['Batter_cap'])"
      ],
      "metadata": {
        "id": "ITT20zCpzWZX",
        "colab": {
          "base_uri": "https://localhost:8080/"
        },
        "outputId": "34530605-6ff5-4862-acb3-4a921a01c621"
      },
      "execution_count": 9,
      "outputs": [
        {
          "output_type": "stream",
          "name": "stdout",
          "text": [
            "0        17.3\n",
            "1        19.2\n",
            "3        50.3\n",
            "4       60.48\n",
            "5        39.2\n",
            "6        34.5\n",
            "7        40.5\n",
            "8        17.3\n",
            "9        19.2\n",
            "11       50.3\n",
            "12      60.48\n",
            "13       39.2\n",
            "14       34.5\n",
            "15       40.5\n",
            "16       71.7\n",
            "17       29.2\n",
            "18       77.4\n",
            "19    200kmph\n",
            "20        nan\n",
            "21       32.6\n",
            "22       77.4\n",
            "23    200kmph\n",
            "24        nan\n",
            "25       32.6\n",
            "26      107.8\n",
            "27       93.4\n",
            "28        nan\n",
            "29     83.9kw\n",
            "Name: Batter_cap, dtype: object\n"
          ]
        }
      ]
    },
    {
      "cell_type": "code",
      "source": [
        "# Convert 'Batter_cap' to numeric values, extracting the numeric part\n",
        "ev_cars_df['Batter_cap'] = ev_cars_df['Batter_cap'].str.extract('(\\d+\\.?\\d*)').astype(float)"
      ],
      "metadata": {
        "id": "oRk1lAuw4yUg"
      },
      "execution_count": 10,
      "outputs": []
    },
    {
      "cell_type": "code",
      "source": [
        "# Extract numeric value from 'Drive_range' and convert to km\n",
        "ev_cars_df['Drive_range'] = ev_cars_df['Drive_range'].str.extract('(\\d+)').astype(float)"
      ],
      "metadata": {
        "id": "6946xVQo9ggA"
      },
      "execution_count": 11,
      "outputs": []
    },
    {
      "cell_type": "code",
      "source": [
        "# Extract numeric value from 'Power' and convert to Bhp\n",
        "ev_cars_df['Power'] = ev_cars_df['Power'].str.extract('(\\d+\\.?\\d*)').astype(float)"
      ],
      "metadata": {
        "id": "FiL1JJDh9lID"
      },
      "execution_count": 12,
      "outputs": []
    },
    {
      "cell_type": "code",
      "source": [
        "# Investigate unique values in 'Charge_time'\n",
        "unique_charge_times = ev_cars_df['Charge_time'].unique()\n",
        "print(\"Unique 'Charge_time' values before cleaning:\", unique_charge_times)"
      ],
      "metadata": {
        "id": "hdP5IwYz_A6y",
        "colab": {
          "base_uri": "https://localhost:8080/"
        },
        "outputId": "b068c118-b92e-44c8-ddf7-8164042aea2c"
      },
      "execution_count": 13,
      "outputs": [
        {
          "output_type": "stream",
          "name": "stdout",
          "text": [
            "Unique 'Charge_time' values before cleaning: ['7 Hours' '58 Min(10-80%)' '7.5h' '8.5 to 9 Hours' '9.5-10 Hours'\n",
            " '6.16 Hours' 'Automatic' '15 Hours' '1.5H' '10.5 Hours' '18 Min (0-80%)'\n",
            " '7.25h(AC 0-100%)' '2.5 Hours' '200kmph']\n"
          ]
        }
      ]
    },
    {
      "cell_type": "code",
      "source": [
        "def convert_charge_time(charge_time):\n",
        "    if isinstance(charge_time, str):\n",
        "        charge_time = charge_time.lower().replace(' hours', 'h').replace('h', '').replace('min(10-80%)', '0.58')\n",
        "        parts = charge_time.split()\n",
        "        total_hours = 0\n",
        "        for part in parts:\n",
        "            if 'min' in part:\n",
        "                try:\n",
        "                    total_hours += float(part.replace('min', '')) / 60\n",
        "                except ValueError:\n",
        "                    continue\n",
        "            else:\n",
        "                try:\n",
        "                    total_hours += float(part)\n",
        "                except ValueError:\n",
        "                    continue\n",
        "        return total_hours\n",
        "    return charge_time"
      ],
      "metadata": {
        "id": "AI_1KPSoAb6K"
      },
      "execution_count": 14,
      "outputs": []
    },
    {
      "cell_type": "code",
      "source": [
        "# Apply conversion function to 'Charge_time' column\n",
        "ev_cars_df['Charge_time'] = ev_cars_df['Charge_time'].apply(convert_charge_time)"
      ],
      "metadata": {
        "id": "CeedlJMM_4ej"
      },
      "execution_count": 15,
      "outputs": []
    },
    {
      "cell_type": "code",
      "source": [
        "# Check unique values in 'Charge_time' after cleaning\n",
        "unique_charge_times_cleaned = ev_cars_df['Charge_time'].unique()\n",
        "print(\"Unique 'Charge_time' values after cleaning:\", unique_charge_times_cleaned)"
      ],
      "metadata": {
        "id": "9QWurOi_CU06",
        "colab": {
          "base_uri": "https://localhost:8080/"
        },
        "outputId": "a97e681f-394e-4c61-c3e0-8c0798c3fce4"
      },
      "execution_count": 16,
      "outputs": [
        {
          "output_type": "stream",
          "name": "stdout",
          "text": [
            "Unique 'Charge_time' values after cleaning: [ 7.   58.58  7.5  17.5   0.    6.16 15.    1.5  10.5  18.    2.5 ]\n"
          ]
        }
      ]
    },
    {
      "cell_type": "code",
      "source": [
        "# Handle missing values for 'Batter_cap'\n",
        "ev_cars_df['Batter_cap'] = pd.to_numeric(ev_cars_df['Batter_cap'], errors='coerce')  # Convert to numeric, coerce errors to NaN\n",
        "\n",
        "# Handle missing values for 'Top_speed'\n",
        "ev_cars_df['Top_speed'] = pd.to_numeric(ev_cars_df['Top_speed'], errors='coerce')  # Convert to numeric, coerce errors to NaN\n",
        "ev_cars_df['Top_speed'] = ev_cars_df['Top_speed'].fillna(ev_cars_df['Top_speed'].mean())  # Fill NaN with mean\n",
        "\n",
        "# Handling missing values for 'Boot_space'\n",
        "ev_cars_df['Boot_space'] = ev_cars_df['Boot_space'].fillna(ev_cars_df['Boot_space'].mode()[0] if not ev_cars_df['Boot_space'].mode().empty else 'Unknown')"
      ],
      "metadata": {
        "id": "KF1NnWMhB68K"
      },
      "execution_count": 17,
      "outputs": []
    },
    {
      "cell_type": "markdown",
      "source": [],
      "metadata": {
        "id": "AqiwCGav-lQC"
      }
    },
    {
      "cell_type": "code",
      "source": [
        "# Display cleaned dataframe\n",
        "print(ev_cars_df.head())\n",
        "print(ev_cars_df.info())"
      ],
      "metadata": {
        "id": "TTNXDQjjBid6",
        "colab": {
          "base_uri": "https://localhost:8080/"
        },
        "outputId": "81d64a14-764a-4ac7-8a94-0ebba34afff0"
      },
      "execution_count": 18,
      "outputs": [
        {
          "output_type": "stream",
          "name": "stdout",
          "text": [
            "        Car_name  Car_price  Batter_cap  Drive_range   Power  Charge_time  \\\n",
            "0    MG Comet EV       7.98       17.30        230.0   41.42         7.00   \n",
            "1  Tata Tiago EV      10.34       19.20        250.0   60.34        58.58   \n",
            "2  Tata Tigor EV      13.12       26.00        315.0   73.75         7.50   \n",
            "3       MG ZS EV      25.39       50.30        461.0  174.33        17.50   \n",
            "4     BYD Atto 3      34.24       60.48        521.0  201.15         0.00   \n",
            "\n",
            "      transmission Boot_space  Top_speed  \n",
            "0        Automatic  Automatic        NaN  \n",
            "1   240 L (Liters)  Automatic        NaN  \n",
            "2   316 L (Liters)  Automatic        NaN  \n",
            "3        Automatic  Automatic        NaN  \n",
            "4  440L L (Liters)  Automatic        NaN  \n",
            "<class 'pandas.core.frame.DataFrame'>\n",
            "RangeIndex: 30 entries, 0 to 29\n",
            "Data columns (total 9 columns):\n",
            " #   Column        Non-Null Count  Dtype  \n",
            "---  ------        --------------  -----  \n",
            " 0   Car_name      30 non-null     object \n",
            " 1   Car_price     30 non-null     float64\n",
            " 2   Batter_cap    27 non-null     float64\n",
            " 3   Drive_range   30 non-null     float64\n",
            " 4   Power         29 non-null     float64\n",
            " 5   Charge_time   30 non-null     float64\n",
            " 6   transmission  28 non-null     object \n",
            " 7   Boot_space    30 non-null     object \n",
            " 8   Top_speed     0 non-null      float64\n",
            "dtypes: float64(6), object(3)\n",
            "memory usage: 2.2+ KB\n",
            "None\n"
          ]
        }
      ]
    },
    {
      "cell_type": "code",
      "source": [
        "# Define bins and labels for price segmentation\n",
        "price_bins = [0, 2000000, 4000000, float('inf')]  # in lakh\n",
        "price_labels = ['Budget', 'Mid-range', 'Premium']\n",
        "\n",
        "# Create 'Price_segment' column based on price bins\n",
        "ev_cars_df['Price_segment'] = pd.cut(ev_cars_df['Car_price'], bins=price_bins, labels=price_labels)"
      ],
      "metadata": {
        "id": "AKLlmq9VE63Q"
      },
      "execution_count": 19,
      "outputs": []
    },
    {
      "cell_type": "code",
      "source": [
        "# Define bins and labels for power and top speed segmentation\n",
        "power_bins = [0, 100, 200, float('inf')]  # in Bhp\n",
        "power_labels = ['Economy', 'Standard', 'High Performance']\n",
        "\n",
        "# Create 'Performance_segment' column based on power bins\n",
        "ev_cars_df['Performance_segment'] = pd.cut(ev_cars_df['Power'], bins=power_bins, labels=power_labels)\n"
      ],
      "metadata": {
        "id": "yM6v_dKbFACQ"
      },
      "execution_count": 20,
      "outputs": []
    },
    {
      "cell_type": "code",
      "source": [
        "# Define bins and labels for drive range segmentation\n",
        "range_bins = [0, 300, 500, float('inf')]  # in km\n",
        "range_labels = ['Short', 'Medium', 'Long']\n",
        "\n",
        "# Create 'Range_segment' column based on drive range bins\n",
        "ev_cars_df['Range_segment'] = pd.cut(ev_cars_df['Drive_range'], bins=range_bins, labels=range_labels)\n"
      ],
      "metadata": {
        "id": "CXRFJ_rlFEP4"
      },
      "execution_count": 21,
      "outputs": []
    },
    {
      "cell_type": "code",
      "source": [
        "# Define bins and labels for battery capacity segmentation\n",
        "battery_bins = [0, 50, 100, float('inf')]  # in kWh\n",
        "battery_labels = ['Small', 'Medium', 'Large']\n",
        "\n",
        "# Create 'Battery_segment' column based on battery capacity bins\n",
        "ev_cars_df['Battery_segment'] = pd.cut(ev_cars_df['Batter_cap'], bins=battery_bins, labels=battery_labels)\n"
      ],
      "metadata": {
        "id": "AC9fNiDvFHXo"
      },
      "execution_count": 22,
      "outputs": []
    },
    {
      "cell_type": "code",
      "source": [
        "# Define criteria and labels for charging time segmentation\n",
        "def charging_time_segment(charge_time):\n",
        "    if charge_time <= 4:\n",
        "        return 'Fast Charging'\n",
        "    else:\n",
        "        return 'Standard Charging'\n",
        "\n",
        "# Apply function to create 'Charging_time_segment' column\n",
        "ev_cars_df['Charging_time_segment'] = ev_cars_df['Charge_time'].apply(charging_time_segment)\n"
      ],
      "metadata": {
        "id": "maK73nhRFMkp"
      },
      "execution_count": 23,
      "outputs": []
    },
    {
      "cell_type": "code",
      "source": [
        "print(ev_cars_df.columns)"
      ],
      "metadata": {
        "id": "aMKWz6hNFomI",
        "colab": {
          "base_uri": "https://localhost:8080/"
        },
        "outputId": "a4fcbf86-0707-4f3a-a22d-b031c772d050"
      },
      "execution_count": 24,
      "outputs": [
        {
          "output_type": "stream",
          "name": "stdout",
          "text": [
            "Index(['Car_name', 'Car_price', 'Batter_cap', 'Drive_range', 'Power',\n",
            "       'Charge_time', 'transmission', 'Boot_space', 'Top_speed',\n",
            "       'Price_segment', 'Performance_segment', 'Range_segment',\n",
            "       'Battery_segment', 'Charging_time_segment'],\n",
            "      dtype='object')\n"
          ]
        }
      ]
    },
    {
      "cell_type": "code",
      "source": [
        "# Display segmented data without 'Car_model' if it doesn't exist\n",
        "print(ev_cars_df[['Price_segment', 'Performance_segment', 'Range_segment', 'Battery_segment', 'Charging_time_segment']].head())\n",
        "\n",
        "# Count of cars in each segment\n",
        "print(\"\\nCount of cars in each segment:\")\n",
        "print(\"Price Segment:\")\n",
        "print(ev_cars_df['Price_segment'].value_counts())\n",
        "print(\"\\nPerformance Segment:\")\n",
        "print(ev_cars_df['Performance_segment'].value_counts())\n",
        "print(\"\\nRange Segment:\")\n",
        "print(ev_cars_df['Range_segment'].value_counts())\n",
        "print(\"\\nBattery Segment:\")\n",
        "print(ev_cars_df['Battery_segment'].value_counts())\n",
        "print(\"\\nCharging Time Segment:\")\n",
        "print(ev_cars_df['Charging_time_segment'].value_counts())\n"
      ],
      "metadata": {
        "id": "t81cc3-0FtV4",
        "colab": {
          "base_uri": "https://localhost:8080/"
        },
        "outputId": "6a9ec69b-49c1-4299-87cf-095a6b2d5bab"
      },
      "execution_count": 25,
      "outputs": [
        {
          "output_type": "stream",
          "name": "stdout",
          "text": [
            "  Price_segment Performance_segment Range_segment Battery_segment  \\\n",
            "0        Budget             Economy         Short           Small   \n",
            "1        Budget             Economy         Short           Small   \n",
            "2        Budget             Economy        Medium           Small   \n",
            "3        Budget            Standard        Medium          Medium   \n",
            "4        Budget    High Performance          Long          Medium   \n",
            "\n",
            "  Charging_time_segment  \n",
            "0     Standard Charging  \n",
            "1     Standard Charging  \n",
            "2     Standard Charging  \n",
            "3     Standard Charging  \n",
            "4         Fast Charging  \n",
            "\n",
            "Count of cars in each segment:\n",
            "Price Segment:\n",
            "Price_segment\n",
            "Budget       30\n",
            "Mid-range     0\n",
            "Premium       0\n",
            "Name: count, dtype: int64\n",
            "\n",
            "Performance Segment:\n",
            "Performance_segment\n",
            "Economy             11\n",
            "High Performance    10\n",
            "Standard             8\n",
            "Name: count, dtype: int64\n",
            "\n",
            "Range Segment:\n",
            "Range_segment\n",
            "Medium    16\n",
            "Short      7\n",
            "Long       7\n",
            "Name: count, dtype: int64\n",
            "\n",
            "Battery Segment:\n",
            "Battery_segment\n",
            "Small     15\n",
            "Medium     9\n",
            "Large      3\n",
            "Name: count, dtype: int64\n",
            "\n",
            "Charging Time Segment:\n",
            "Charging_time_segment\n",
            "Standard Charging    15\n",
            "Fast Charging        15\n",
            "Name: count, dtype: int64\n"
          ]
        }
      ]
    },
    {
      "cell_type": "code",
      "source": [
        "import matplotlib.pyplot as plt\n",
        "\n",
        "# Bar plot for Price segmentation\n",
        "plt.figure(figsize=(8, 6))\n",
        "ev_cars_df['Price_segment'].value_counts().plot(kind='bar', color='skyblue')\n",
        "plt.title('Distribution of Cars by Price Segment')\n",
        "plt.xlabel('Price Segment')\n",
        "plt.ylabel('Number of Cars')\n",
        "plt.xticks(rotation=0)\n",
        "plt.show()\n"
      ],
      "metadata": {
        "id": "hOZcweWpxDSj",
        "colab": {
          "base_uri": "https://localhost:8080/",
          "height": 564
        },
        "outputId": "af17967a-6264-4660-b3d0-3493b1ec3a40"
      },
      "execution_count": 26,
      "outputs": [
        {
          "output_type": "display_data",
          "data": {
            "text/plain": [
              "<Figure size 800x600 with 1 Axes>"
            ],
            "image/png": "[encoded data removed]"
          },
          "metadata": {}
        }
      ]
    },
    {
      "cell_type": "code",
      "source": [
        "# Pie chart for Performance segmentation\n",
        "plt.figure(figsize=(8, 6))\n",
        "ev_cars_df['Performance_segment'].value_counts().plot(kind='pie', autopct='%1.1f%%', startangle=90, colors=['lightgreen', 'lightcoral', 'lightskyblue'])\n",
        "plt.title('Distribution of Cars by Performance Segment')\n",
        "plt.ylabel('')\n",
        "plt.show()\n"
      ],
      "metadata": {
        "colab": {
          "base_uri": "https://localhost:8080/",
          "height": 521
        },
        "id": "jG-ScT_JgUKs",
        "outputId": "a483dfc3-11a3-4d6e-f1f8-789445340e3a"
      },
      "execution_count": 27,
      "outputs": [
        {
          "output_type": "display_data",
          "data": {
            "text/plain": [
              "<Figure size 800x600 with 1 Axes>"
            ],
            "image/png": "[encoded data removed]"
          },
          "metadata": {}
        }
      ]
    },
    {
      "cell_type": "code",
      "source": [
        "# Box plot for Range segmentation\n",
        "plt.figure(figsize=(8, 6))\n",
        "ev_cars_df.boxplot(column='Drive_range', by='Range_segment', grid=False, showfliers=False)\n",
        "plt.title('Distribution of Drive Range by Range Segment')\n",
        "plt.suptitle('')\n",
        "plt.xlabel('Range Segment')\n",
        "plt.ylabel('Drive Range (km)')\n",
        "plt.xticks(rotation=0)\n",
        "plt.show()\n"
      ],
      "metadata": {
        "id": "IEJxt0q6BCjH",
        "colab": {
          "base_uri": "https://localhost:8080/",
          "height": 479
        },
        "outputId": "d334c932-1862-4f72-c1a8-14c1e390e063"
      },
      "execution_count": 28,
      "outputs": [
        {
          "output_type": "display_data",
          "data": {
            "text/plain": [
              "<Figure size 800x600 with 0 Axes>"
            ]
          },
          "metadata": {}
        },
        {
          "output_type": "display_data",
          "data": {
            "text/plain": [
              "<Figure size 640x480 with 1 Axes>"
            ],
            "image/png": "[encoded data removed]"
          },
          "metadata": {}
        }
      ]
    },
    {
      "cell_type": "code",
      "source": [
        "# Histogram for Battery Capacity segmentation\n",
        "plt.figure(figsize=(8, 6))\n",
        "ev_cars_df['Batter_cap'].hist(by=ev_cars_df['Battery_segment'], bins=15, color='skyblue', edgecolor='black', figsize=(10,6))\n",
        "plt.suptitle('Distribution of Battery Capacity by Battery Segment')\n",
        "plt.xlabel('Battery Capacity (kWh)')\n",
        "plt.ylabel('Number of Cars')\n",
        "plt.show()\n"
      ],
      "metadata": {
        "colab": {
          "base_uri": "https://localhost:8080/",
          "height": 588
        },
        "id": "rBq3Py0Zguvj",
        "outputId": "b093a927-23be-41f6-e493-6ab90dc0e389"
      },
      "execution_count": 29,
      "outputs": [
        {
          "output_type": "display_data",
          "data": {
            "text/plain": [
              "<Figure size 800x600 with 0 Axes>"
            ]
          },
          "metadata": {}
        },
        {
          "output_type": "display_data",
          "data": {
            "text/plain": [
              "<Figure size 1000x600 with 4 Axes>"
            ],
            "image/png": "[encoded data removed]"
          },
          "metadata": {}
        }
      ]
    },
    {
      "cell_type": "code",
      "source": [
        "# Bar plot for Charging Time segmentation\n",
        "plt.figure(figsize=(8, 6))\n",
        "ev_cars_df['Charging_time_segment'].value_counts().plot(kind='bar', color='lightgreen')\n",
        "plt.title('Distribution of Cars by Charging Time Segment')\n",
        "plt.xlabel('Charging Time Segment')\n",
        "plt.ylabel('Number of Cars')\n",
        "plt.xticks(rotation=0)\n",
        "plt.show()"
      ],
      "metadata": {
        "colab": {
          "base_uri": "https://localhost:8080/",
          "height": 564
        },
        "id": "h7QeQs_Lgz37",
        "outputId": "cd63fc93-3480-4c65-a445-5fa2946e245e"
      },
      "execution_count": 30,
      "outputs": [
        {
          "output_type": "display_data",
          "data": {
            "text/plain": [
              "<Figure size 800x600 with 1 Axes>"
            ],
            "image/png": "[encoded data removed]"
          },
          "metadata": {}
        }
      ]
    },
    {
      "cell_type": "code",
      "source": [],
      "metadata": {
        "id": "LftvWcvBg3cL"
      },
      "execution_count": 30,
      "outputs": []
    }
  ]
}